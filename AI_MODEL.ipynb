{
 "cells": [
  {
   "cell_type": "code",
   "execution_count": 2,
   "id": "5eb01f63",
   "metadata": {},
   "outputs": [],
   "source": [
    "import urllib.request"
   ]
  },
  {
   "cell_type": "code",
   "execution_count": 7,
   "id": "d6356a93",
   "metadata": {},
   "outputs": [
    {
     "name": "stdout",
     "output_type": "stream",
     "text": [
      "b'{\"statusCode\": 200, \"body\": \"\\\\\"User Unlocked!\\\\\"\"}'\n"
     ]
    }
   ],
   "source": [
    "#AI model\n",
    "import urllib.request\n",
    "request_url = urllib.request.urlopen(\"https://kxzehhlpr5.execute-api.ap-south-1.amazonaws.com/test/unlock\")\n",
    "\n",
    "print( request_url.read())"
   ]
  },
  {
   "cell_type": "code",
   "execution_count": 1,
   "id": "b6bd2de2",
   "metadata": {},
   "outputs": [
    {
     "name": "stdout",
     "output_type": "stream",
     "text": [
      "b'{\"statusCode\": 200, \"body\": \"\\\\\"User Locked!\\\\\"\"}'\n"
     ]
    }
   ],
   "source": [
    "#AI model\n",
    "import urllib.request\n",
    "request_url = urllib.request.urlopen(\"https://kxzehhlpr5.execute-api.ap-south-1.amazonaws.com/test/lock\")\n",
    "\n",
    "print( request_url.read())"
   ]
  },
  {
   "cell_type": "code",
   "execution_count": null,
   "id": "e930f90a",
   "metadata": {},
   "outputs": [],
   "source": [
    "#AI model\n",
    "import urllib.request\n",
    "request_url = urllib.request.urlopen(\"https://kxzehhlpr5.execute-api.ap-south-1.amazonaws.com/test/docker\")\n",
    "\n",
    "print( request_url.read())"
   ]
  }
 ],
 "metadata": {
  "kernelspec": {
   "display_name": "Python 3 (ipykernel)",
   "language": "python",
   "name": "python3"
  },
  "language_info": {
   "codemirror_mode": {
    "name": "ipython",
    "version": 3
   },
   "file_extension": ".py",
   "mimetype": "text/x-python",
   "name": "python",
   "nbconvert_exporter": "python",
   "pygments_lexer": "ipython3",
   "version": "3.10.9"
  }
 },
 "nbformat": 4,
 "nbformat_minor": 5
}
